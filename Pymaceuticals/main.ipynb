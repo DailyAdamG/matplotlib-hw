{
 "cells": [
  {
   "cell_type": "code",
   "execution_count": 1,
   "metadata": {},
   "outputs": [],
   "source": [
    "import matplotlib.pyplot as plt\n",
    "import pandas as pd\n",
    "import numpy as np\n",
    "import scipy.stats as st"
   ]
  },
  {
   "cell_type": "code",
   "execution_count": 2,
   "metadata": {},
   "outputs": [],
   "source": [
    "mouse_metadata_path = \"data/Mouse_metadata.csv\"\n",
    "study_results_path = \"data/Study_results.csv\""
   ]
  },
  {
   "cell_type": "code",
   "execution_count": 3,
   "metadata": {},
   "outputs": [],
   "source": [
    "mouse_metadata = pd.read_csv(mouse_metadata_path)\n",
    "study_results = pd.read_csv(study_results_path)"
   ]
  },
  {
   "cell_type": "code",
   "execution_count": 4,
   "metadata": {
    "scrolled": true
   },
   "outputs": [
    {
     "name": "stdout",
     "output_type": "stream",
     "text": [
      "There is a total of 1893 records in the experiment.\n"
     ]
    },
    {
     "data": {
      "text/html": [
       "<div>\n",
       "<style scoped>\n",
       "    .dataframe tbody tr th:only-of-type {\n",
       "        vertical-align: middle;\n",
       "    }\n",
       "\n",
       "    .dataframe tbody tr th {\n",
       "        vertical-align: top;\n",
       "    }\n",
       "\n",
       "    .dataframe thead th {\n",
       "        text-align: right;\n",
       "    }\n",
       "</style>\n",
       "<table border=\"1\" class=\"dataframe\">\n",
       "  <thead>\n",
       "    <tr style=\"text-align: right;\">\n",
       "      <th></th>\n",
       "      <th>Mouse ID</th>\n",
       "      <th>Drug Regimen</th>\n",
       "      <th>Sex</th>\n",
       "      <th>Age_months</th>\n",
       "      <th>Weight (g)</th>\n",
       "      <th>Timepoint</th>\n",
       "      <th>Tumor Volume (mm3)</th>\n",
       "      <th>Metastatic Sites</th>\n",
       "    </tr>\n",
       "  </thead>\n",
       "  <tbody>\n",
       "    <tr>\n",
       "      <td>0</td>\n",
       "      <td>k403</td>\n",
       "      <td>Ramicane</td>\n",
       "      <td>Male</td>\n",
       "      <td>21</td>\n",
       "      <td>16</td>\n",
       "      <td>0</td>\n",
       "      <td>45.000000</td>\n",
       "      <td>0</td>\n",
       "    </tr>\n",
       "    <tr>\n",
       "      <td>1</td>\n",
       "      <td>k403</td>\n",
       "      <td>Ramicane</td>\n",
       "      <td>Male</td>\n",
       "      <td>21</td>\n",
       "      <td>16</td>\n",
       "      <td>5</td>\n",
       "      <td>38.825898</td>\n",
       "      <td>0</td>\n",
       "    </tr>\n",
       "    <tr>\n",
       "      <td>2</td>\n",
       "      <td>k403</td>\n",
       "      <td>Ramicane</td>\n",
       "      <td>Male</td>\n",
       "      <td>21</td>\n",
       "      <td>16</td>\n",
       "      <td>10</td>\n",
       "      <td>35.014271</td>\n",
       "      <td>1</td>\n",
       "    </tr>\n",
       "    <tr>\n",
       "      <td>3</td>\n",
       "      <td>k403</td>\n",
       "      <td>Ramicane</td>\n",
       "      <td>Male</td>\n",
       "      <td>21</td>\n",
       "      <td>16</td>\n",
       "      <td>15</td>\n",
       "      <td>34.223992</td>\n",
       "      <td>1</td>\n",
       "    </tr>\n",
       "    <tr>\n",
       "      <td>4</td>\n",
       "      <td>k403</td>\n",
       "      <td>Ramicane</td>\n",
       "      <td>Male</td>\n",
       "      <td>21</td>\n",
       "      <td>16</td>\n",
       "      <td>20</td>\n",
       "      <td>32.997729</td>\n",
       "      <td>1</td>\n",
       "    </tr>\n",
       "    <tr>\n",
       "      <td>...</td>\n",
       "      <td>...</td>\n",
       "      <td>...</td>\n",
       "      <td>...</td>\n",
       "      <td>...</td>\n",
       "      <td>...</td>\n",
       "      <td>...</td>\n",
       "      <td>...</td>\n",
       "      <td>...</td>\n",
       "    </tr>\n",
       "    <tr>\n",
       "      <td>1888</td>\n",
       "      <td>z969</td>\n",
       "      <td>Naftisol</td>\n",
       "      <td>Male</td>\n",
       "      <td>9</td>\n",
       "      <td>30</td>\n",
       "      <td>25</td>\n",
       "      <td>63.145652</td>\n",
       "      <td>2</td>\n",
       "    </tr>\n",
       "    <tr>\n",
       "      <td>1889</td>\n",
       "      <td>z969</td>\n",
       "      <td>Naftisol</td>\n",
       "      <td>Male</td>\n",
       "      <td>9</td>\n",
       "      <td>30</td>\n",
       "      <td>30</td>\n",
       "      <td>65.841013</td>\n",
       "      <td>3</td>\n",
       "    </tr>\n",
       "    <tr>\n",
       "      <td>1890</td>\n",
       "      <td>z969</td>\n",
       "      <td>Naftisol</td>\n",
       "      <td>Male</td>\n",
       "      <td>9</td>\n",
       "      <td>30</td>\n",
       "      <td>35</td>\n",
       "      <td>69.176246</td>\n",
       "      <td>4</td>\n",
       "    </tr>\n",
       "    <tr>\n",
       "      <td>1891</td>\n",
       "      <td>z969</td>\n",
       "      <td>Naftisol</td>\n",
       "      <td>Male</td>\n",
       "      <td>9</td>\n",
       "      <td>30</td>\n",
       "      <td>40</td>\n",
       "      <td>70.314904</td>\n",
       "      <td>4</td>\n",
       "    </tr>\n",
       "    <tr>\n",
       "      <td>1892</td>\n",
       "      <td>z969</td>\n",
       "      <td>Naftisol</td>\n",
       "      <td>Male</td>\n",
       "      <td>9</td>\n",
       "      <td>30</td>\n",
       "      <td>45</td>\n",
       "      <td>73.867845</td>\n",
       "      <td>4</td>\n",
       "    </tr>\n",
       "  </tbody>\n",
       "</table>\n",
       "<p>1893 rows × 8 columns</p>\n",
       "</div>"
      ],
      "text/plain": [
       "     Mouse ID Drug Regimen   Sex  Age_months  Weight (g)  Timepoint  \\\n",
       "0        k403     Ramicane  Male          21          16          0   \n",
       "1        k403     Ramicane  Male          21          16          5   \n",
       "2        k403     Ramicane  Male          21          16         10   \n",
       "3        k403     Ramicane  Male          21          16         15   \n",
       "4        k403     Ramicane  Male          21          16         20   \n",
       "...       ...          ...   ...         ...         ...        ...   \n",
       "1888     z969     Naftisol  Male           9          30         25   \n",
       "1889     z969     Naftisol  Male           9          30         30   \n",
       "1890     z969     Naftisol  Male           9          30         35   \n",
       "1891     z969     Naftisol  Male           9          30         40   \n",
       "1892     z969     Naftisol  Male           9          30         45   \n",
       "\n",
       "      Tumor Volume (mm3)  Metastatic Sites  \n",
       "0              45.000000                 0  \n",
       "1              38.825898                 0  \n",
       "2              35.014271                 1  \n",
       "3              34.223992                 1  \n",
       "4              32.997729                 1  \n",
       "...                  ...               ...  \n",
       "1888           63.145652                 2  \n",
       "1889           65.841013                 3  \n",
       "1890           69.176246                 4  \n",
       "1891           70.314904                 4  \n",
       "1892           73.867845                 4  \n",
       "\n",
       "[1893 rows x 8 columns]"
      ]
     },
     "execution_count": 4,
     "metadata": {},
     "output_type": "execute_result"
    }
   ],
   "source": [
    "combined_data = pd.merge(mouse_metadata, study_results, how = \"outer\", on = \"Mouse ID\")\n",
    "\n",
    "duplicate_data = combined_data[\"Mouse ID\"].count()\n",
    "\n",
    "print(f\"There is a total of {duplicate_data} records in the experiment.\")\n",
    "\n",
    "combined_data"
   ]
  },
  {
   "cell_type": "code",
   "execution_count": 5,
   "metadata": {},
   "outputs": [
    {
     "name": "stdout",
     "output_type": "stream",
     "text": [
      "There is a total of 1888 records in this new dataframe.\n"
     ]
    },
    {
     "data": {
      "text/html": [
       "<div>\n",
       "<style scoped>\n",
       "    .dataframe tbody tr th:only-of-type {\n",
       "        vertical-align: middle;\n",
       "    }\n",
       "\n",
       "    .dataframe tbody tr th {\n",
       "        vertical-align: top;\n",
       "    }\n",
       "\n",
       "    .dataframe thead th {\n",
       "        text-align: right;\n",
       "    }\n",
       "</style>\n",
       "<table border=\"1\" class=\"dataframe\">\n",
       "  <thead>\n",
       "    <tr style=\"text-align: right;\">\n",
       "      <th></th>\n",
       "      <th>Mouse ID</th>\n",
       "      <th>Drug Regimen</th>\n",
       "      <th>Sex</th>\n",
       "      <th>Age_months</th>\n",
       "      <th>Weight (g)</th>\n",
       "      <th>Timepoint</th>\n",
       "      <th>Tumor Volume (mm3)</th>\n",
       "      <th>Metastatic Sites</th>\n",
       "    </tr>\n",
       "  </thead>\n",
       "  <tbody>\n",
       "    <tr>\n",
       "      <td>0</td>\n",
       "      <td>k403</td>\n",
       "      <td>Ramicane</td>\n",
       "      <td>Male</td>\n",
       "      <td>21</td>\n",
       "      <td>16</td>\n",
       "      <td>0</td>\n",
       "      <td>45.000000</td>\n",
       "      <td>0</td>\n",
       "    </tr>\n",
       "    <tr>\n",
       "      <td>1</td>\n",
       "      <td>k403</td>\n",
       "      <td>Ramicane</td>\n",
       "      <td>Male</td>\n",
       "      <td>21</td>\n",
       "      <td>16</td>\n",
       "      <td>5</td>\n",
       "      <td>38.825898</td>\n",
       "      <td>0</td>\n",
       "    </tr>\n",
       "    <tr>\n",
       "      <td>2</td>\n",
       "      <td>k403</td>\n",
       "      <td>Ramicane</td>\n",
       "      <td>Male</td>\n",
       "      <td>21</td>\n",
       "      <td>16</td>\n",
       "      <td>10</td>\n",
       "      <td>35.014271</td>\n",
       "      <td>1</td>\n",
       "    </tr>\n",
       "    <tr>\n",
       "      <td>3</td>\n",
       "      <td>k403</td>\n",
       "      <td>Ramicane</td>\n",
       "      <td>Male</td>\n",
       "      <td>21</td>\n",
       "      <td>16</td>\n",
       "      <td>15</td>\n",
       "      <td>34.223992</td>\n",
       "      <td>1</td>\n",
       "    </tr>\n",
       "    <tr>\n",
       "      <td>4</td>\n",
       "      <td>k403</td>\n",
       "      <td>Ramicane</td>\n",
       "      <td>Male</td>\n",
       "      <td>21</td>\n",
       "      <td>16</td>\n",
       "      <td>20</td>\n",
       "      <td>32.997729</td>\n",
       "      <td>1</td>\n",
       "    </tr>\n",
       "    <tr>\n",
       "      <td>...</td>\n",
       "      <td>...</td>\n",
       "      <td>...</td>\n",
       "      <td>...</td>\n",
       "      <td>...</td>\n",
       "      <td>...</td>\n",
       "      <td>...</td>\n",
       "      <td>...</td>\n",
       "      <td>...</td>\n",
       "    </tr>\n",
       "    <tr>\n",
       "      <td>1888</td>\n",
       "      <td>z969</td>\n",
       "      <td>Naftisol</td>\n",
       "      <td>Male</td>\n",
       "      <td>9</td>\n",
       "      <td>30</td>\n",
       "      <td>25</td>\n",
       "      <td>63.145652</td>\n",
       "      <td>2</td>\n",
       "    </tr>\n",
       "    <tr>\n",
       "      <td>1889</td>\n",
       "      <td>z969</td>\n",
       "      <td>Naftisol</td>\n",
       "      <td>Male</td>\n",
       "      <td>9</td>\n",
       "      <td>30</td>\n",
       "      <td>30</td>\n",
       "      <td>65.841013</td>\n",
       "      <td>3</td>\n",
       "    </tr>\n",
       "    <tr>\n",
       "      <td>1890</td>\n",
       "      <td>z969</td>\n",
       "      <td>Naftisol</td>\n",
       "      <td>Male</td>\n",
       "      <td>9</td>\n",
       "      <td>30</td>\n",
       "      <td>35</td>\n",
       "      <td>69.176246</td>\n",
       "      <td>4</td>\n",
       "    </tr>\n",
       "    <tr>\n",
       "      <td>1891</td>\n",
       "      <td>z969</td>\n",
       "      <td>Naftisol</td>\n",
       "      <td>Male</td>\n",
       "      <td>9</td>\n",
       "      <td>30</td>\n",
       "      <td>40</td>\n",
       "      <td>70.314904</td>\n",
       "      <td>4</td>\n",
       "    </tr>\n",
       "    <tr>\n",
       "      <td>1892</td>\n",
       "      <td>z969</td>\n",
       "      <td>Naftisol</td>\n",
       "      <td>Male</td>\n",
       "      <td>9</td>\n",
       "      <td>30</td>\n",
       "      <td>45</td>\n",
       "      <td>73.867845</td>\n",
       "      <td>4</td>\n",
       "    </tr>\n",
       "  </tbody>\n",
       "</table>\n",
       "<p>1888 rows × 8 columns</p>\n",
       "</div>"
      ],
      "text/plain": [
       "     Mouse ID Drug Regimen   Sex  Age_months  Weight (g)  Timepoint  \\\n",
       "0        k403     Ramicane  Male          21          16          0   \n",
       "1        k403     Ramicane  Male          21          16          5   \n",
       "2        k403     Ramicane  Male          21          16         10   \n",
       "3        k403     Ramicane  Male          21          16         15   \n",
       "4        k403     Ramicane  Male          21          16         20   \n",
       "...       ...          ...   ...         ...         ...        ...   \n",
       "1888     z969     Naftisol  Male           9          30         25   \n",
       "1889     z969     Naftisol  Male           9          30         30   \n",
       "1890     z969     Naftisol  Male           9          30         35   \n",
       "1891     z969     Naftisol  Male           9          30         40   \n",
       "1892     z969     Naftisol  Male           9          30         45   \n",
       "\n",
       "      Tumor Volume (mm3)  Metastatic Sites  \n",
       "0              45.000000                 0  \n",
       "1              38.825898                 0  \n",
       "2              35.014271                 1  \n",
       "3              34.223992                 1  \n",
       "4              32.997729                 1  \n",
       "...                  ...               ...  \n",
       "1888           63.145652                 2  \n",
       "1889           65.841013                 3  \n",
       "1890           69.176246                 4  \n",
       "1891           70.314904                 4  \n",
       "1892           73.867845                 4  \n",
       "\n",
       "[1888 rows x 8 columns]"
      ]
     },
     "execution_count": 5,
     "metadata": {},
     "output_type": "execute_result"
    }
   ],
   "source": [
    "deduped_data = combined_data.drop_duplicates(subset = (\"Mouse ID\", \"Timepoint\"), keep = \"last\")\n",
    "\n",
    "record_check = deduped_data[\"Mouse ID\"].count()\n",
    "\n",
    "print(f\"There is a total of {record_check} records in this new dataframe.\")\n",
    "\n",
    "deduped_data"
   ]
  },
  {
   "cell_type": "code",
   "execution_count": 6,
   "metadata": {
    "scrolled": true
   },
   "outputs": [
    {
     "name": "stdout",
     "output_type": "stream",
     "text": [
      "              Average  Median  Variance  Standard Deviation  Standard Error\n",
      "Drug Regimen                                                               \n",
      "Capomulin       40.68   41.56     24.95                4.99            0.33\n",
      "Ceftamin        52.59   51.78     39.29                6.27            0.47\n",
      "Infubinol       52.88   51.82     43.13                6.57            0.49\n",
      "Ketapril        55.24   53.70     68.55                8.28            0.60\n",
      "Naftisol        54.33   52.51     66.17                8.13            0.60\n",
      "Placebo         54.03   52.29     61.17                7.82            0.58\n",
      "Propriva        52.38   50.78     43.22                6.57            0.53\n",
      "Ramicane        40.22   40.67     23.49                4.85            0.32\n",
      "Stelasyn        54.23   52.43     59.45                7.71            0.57\n",
      "Zoniferol       53.24   51.82     48.53                6.97            0.52\n"
     ]
    }
   ],
   "source": [
    "regimen_group = deduped_data.groupby(\"Drug Regimen\")\n",
    "avg_tumor = round(regimen_group[\"Tumor Volume (mm3)\"].mean(),2)\n",
    "med_tumor = round(regimen_group[\"Tumor Volume (mm3)\"].median(),2)\n",
    "var_tumor = round(regimen_group[\"Tumor Volume (mm3)\"].var(),2)\n",
    "std_tumor = round(regimen_group[\"Tumor Volume (mm3)\"].std(),2)\n",
    "sem_tumor = round(regimen_group[\"Tumor Volume (mm3)\"].sem(),2)\n",
    "\n",
    "tumor_summary_df = pd.DataFrame({\"Average\" : avg_tumor, \"Median\" : med_tumor,\n",
    "                                \"Variance\" : var_tumor, \"Standard Deviation\" : std_tumor,\n",
    "                                \"Standard Error\" : sem_tumor})\n",
    "print(tumor_summary_df)"
   ]
  },
  {
   "cell_type": "code",
   "execution_count": 7,
   "metadata": {
    "scrolled": true
   },
   "outputs": [
    {
     "data": {
      "image/png": "[encoded data removed]",
      "text/plain": [
       "<Figure size 576x360 with 1 Axes>"
      ]
     },
     "metadata": {
      "needs_background": "light"
     },
     "output_type": "display_data"
    }
   ],
   "source": [
    "combined_data_regimen_group = deduped_data.groupby(\"Drug Regimen\")\n",
    "\n",
    "bar_graph_info = combined_data_regimen_group[\"Timepoint\"].count().sort_values(ascending = False)\n",
    "bar_graph = bar_graph_info.plot(kind = \"bar\", color = \"red\", figsize = (8,5))\n",
    "bar_graph.set_title(\"Datapoints by Drug\")\n",
    "bar_graph.set_xlabel(\"Drug\")\n",
    "bar_graph.set_ylabel(\"Number of Data Points\")\n",
    "plt.show()"
   ]
  },
  {
   "cell_type": "code",
   "execution_count": 8,
   "metadata": {},
   "outputs": [
    {
     "data": {
      "image/png": "[encoded data removed]",
      "text/plain": [
       "<Figure size 576x360 with 1 Axes>"
      ]
     },
     "metadata": {
      "needs_background": "light"
     },
     "output_type": "display_data"
    }
   ],
   "source": [
    "x_axis = np.arange(len(bar_graph_info))\n",
    "tick_locations = [value for value in x_axis]\n",
    "\n",
    "plt.figure(figsize = (8,5))\n",
    "plt.bar(x_axis, bar_graph_info, color=\"red\", width = .5)\n",
    "plt.xticks(tick_locations, bar_graph_info.index, rotation=\"vertical\")\n",
    "plt.title(\"Datapoints by Drug\")\n",
    "plt.xlabel(\"Drug\")\n",
    "plt.ylabel(\"Number of Data Points\")\n",
    "plt.show()"
   ]
  },
  {
   "cell_type": "code",
   "execution_count": 9,
   "metadata": {},
   "outputs": [
    {
     "data": {
      "image/png": "[encoded data removed]",
      "text/plain": [
       "<Figure size 360x360 with 1 Axes>"
      ]
     },
     "metadata": {},
     "output_type": "display_data"
    }
   ],
   "source": [
    "combined_data_gender_group = deduped_data.groupby(\"Sex\")\n",
    "\n",
    "pie_chart_info = combined_data_gender_group[\"Mouse ID\"].nunique()\n",
    "pie_chart = pie_chart_info.plot(kind = \"pie\", y = pie_chart_info, colors = {\"orange\", \"green\"}, autopct=\"%1.1f%%\", figsize = (5,5))\n",
    "pie_chart.set_title(\"Test Subjects by Gender\")\n",
    "pie_chart.set_ylabel(\"Gender\")\n",
    "plt.show()"
   ]
  },
  {
   "cell_type": "code",
   "execution_count": 10,
   "metadata": {},
   "outputs": [
    {
     "data": {
      "image/png": "[encoded data removed]",
      "text/plain": [
       "<Figure size 360x360 with 1 Axes>"
      ]
     },
     "metadata": {},
     "output_type": "display_data"
    }
   ],
   "source": [
    "pie_labels = pie_chart_info.index\n",
    "colors = [\"green\", \"orange\"]\n",
    "plt.figure(figsize = (5,5))\n",
    "plt.pie(pie_chart_info, labels = pie_labels, colors=colors, autopct=\"%1.1f%%\")\n",
    "plt.title(\"Test Subjects by Gender\")\n",
    "plt.ylabel(\"Gender\")\n",
    "plt.show()"
   ]
  },
  {
   "cell_type": "code",
   "execution_count": 11,
   "metadata": {
    "scrolled": true
   },
   "outputs": [],
   "source": [
    "Final_Tumor_Size = deduped_data.drop_duplicates(subset = (\"Mouse ID\"), keep = \"last\")\n",
    "Final_Tumor_by_drug = Final_Tumor_Size[[\"Mouse ID\", \"Drug Regimen\", \"Tumor Volume (mm3)\"]]\n",
    "Final_Tumor_Size_Capomulin = Final_Tumor_by_drug.loc[Final_Tumor_by_drug[\"Drug Regimen\"] == \"Capomulin\"]\n",
    "Final_Tumor_Size_Ramicane = Final_Tumor_by_drug.loc[Final_Tumor_by_drug[\"Drug Regimen\"] == \"Ramicane\"]\n",
    "Final_Tumor_Size_Infubinol = Final_Tumor_by_drug.loc[Final_Tumor_by_drug[\"Drug Regimen\"] == \"Infubinol\"]\n",
    "Final_Tumor_Size_Ceftamin = Final_Tumor_by_drug.loc[Final_Tumor_by_drug[\"Drug Regimen\"] == \"Ceftamin\"]"
   ]
  },
  {
   "cell_type": "code",
   "execution_count": 12,
   "metadata": {},
   "outputs": [],
   "source": [
    "box_plot_df = pd.DataFrame({\"Capomulin\" : Final_Tumor_Size_Capomulin[\"Tumor Volume (mm3)\"],\n",
    "                            \"Ramicane\" : Final_Tumor_Size_Ramicane[\"Tumor Volume (mm3)\"],\n",
    "                           \"Infubinol\" : Final_Tumor_Size_Infubinol[\"Tumor Volume (mm3)\"],\n",
    "                        \"Ceftamin\" : Final_Tumor_Size_Ceftamin[\"Tumor Volume (mm3)\"]})"
   ]
  },
  {
   "cell_type": "code",
   "execution_count": 13,
   "metadata": {
    "scrolled": false
   },
   "outputs": [
    {
     "name": "stdout",
     "output_type": "stream",
     "text": [
      "Average Final Tumor Size\n",
      "\n",
      "Capomulin    36.67\n",
      "Ramicane     36.19\n",
      "Infubinol    58.18\n",
      "Ceftamin     57.75\n",
      "dtype: float64\n",
      "\n",
      "\n",
      "Tumor Size Quartiles\n",
      "\n",
      "      Capomulin  Ramicane  Infubinol  Ceftamin\n",
      "0.25      32.38     31.56      54.05     48.72\n",
      "0.50      38.13     36.56      60.17     59.85\n",
      "0.75      40.16     40.66      65.53     64.30\n",
      "\n",
      "\n",
      "Anything outside of these ranges is considered an outlier\n",
      "\n",
      "           Lower Bound  Upper Bound\n",
      "Capomulin        20.71        51.83\n",
      "Ramicane         17.91        54.31\n",
      "Infubinol        36.83        82.75\n",
      "Ceftamin         25.35        87.67\n",
      "\n",
      "\n",
      "Below is a list of all outliers\n",
      "\n",
      "    Mouse ID Drug Regimen  Tumor Volume (mm3)\n",
      "669     c326    Infubinol           36.321346\n"
     ]
    }
   ],
   "source": [
    "avg_tumor_size_final = round(box_plot_df.mean(),2)\n",
    "quartiles = round(box_plot_df.quantile([.25,.5,.75]),2)\n",
    "lower_q = quartiles.loc[.25]\n",
    "upper_q = quartiles.loc[.75]\n",
    "iqr = upper_q - lower_q\n",
    "lower_bound = lower_q - (1.5*iqr)\n",
    "upper_bound = upper_q + (1.5*iqr)\n",
    "outlier_df = pd.DataFrame({\"Lower Bound\" : lower_bound, \"Upper Bound\" : upper_bound})\n",
    "\n",
    "print(f\"Average Final Tumor Size\\n\\n{avg_tumor_size_final}\\n\\n\")\n",
    "\n",
    "print(f\"Tumor Size Quartiles\\n\\n{quartiles}\\n\\n\")\n",
    "\n",
    "print(f\"Anything outside of these ranges is considered an outlier\\n\\n{outlier_df}\\n\\n\")\n",
    "\n",
    "Capomulin_outlier = Final_Tumor_Size_Capomulin.loc[(Final_Tumor_Size_Capomulin[\"Tumor Volume (mm3)\"] <= outlier_df.loc[\"Capomulin\", \"Lower Bound\"]) |\n",
    "                                                   (Final_Tumor_Size_Capomulin[\"Tumor Volume (mm3)\"] >= outlier_df.loc[\"Capomulin\", \"Upper Bound\"])]\n",
    "Ramicane_outlier = Final_Tumor_Size_Ramicane.loc[(Final_Tumor_Size_Ramicane[\"Tumor Volume (mm3)\"] <= outlier_df.loc[\"Ramicane\", \"Lower Bound\"]) |\n",
    "                                                   (Final_Tumor_Size_Ramicane[\"Tumor Volume (mm3)\"] >= outlier_df.loc[\"Ramicane\", \"Upper Bound\"])]\n",
    "Infubinol_outlier = Final_Tumor_Size_Infubinol.loc[(Final_Tumor_Size_Infubinol[\"Tumor Volume (mm3)\"] <= outlier_df.loc[\"Infubinol\", \"Lower Bound\"]) |\n",
    "                                                   (Final_Tumor_Size_Infubinol[\"Tumor Volume (mm3)\"] >= outlier_df.loc[\"Infubinol\", \"Upper Bound\"])]\n",
    "Ceftamin_outlier = Final_Tumor_Size_Ceftamin.loc[(Final_Tumor_Size_Ceftamin[\"Tumor Volume (mm3)\"] <= outlier_df.loc[\"Ceftamin\", \"Lower Bound\"]) |\n",
    "                                                   (Final_Tumor_Size_Ceftamin[\"Tumor Volume (mm3)\"] >= outlier_df.loc[\"Ceftamin\", \"Upper Bound\"])]\n",
    "\n",
    "outlier_list = pd.concat([Capomulin_outlier, Ramicane_outlier, Infubinol_outlier, Ceftamin_outlier])\n",
    "\n",
    "print(f\"Below is a list of all outliers\\n\\n{outlier_list}\")"
   ]
  },
  {
   "cell_type": "code",
   "execution_count": 14,
   "metadata": {
    "scrolled": true
   },
   "outputs": [
    {
     "data": {
      "image/png": "[encoded data removed]",
      "text/plain": [
       "<Figure size 432x288 with 1 Axes>"
      ]
     },
     "metadata": {
      "needs_background": "light"
     },
     "output_type": "display_data"
    }
   ],
   "source": [
    "red_circle = dict(markerfacecolor = \"red\", marker = \"o\")\n",
    "fig, myboxplot = plt.subplots()\n",
    "myboxplot = box_plot_df.boxplot(column = [\"Capomulin\", \"Ramicane\", \"Infubinol\", \"Ceftamin\"], grid = False,\n",
    "                                flierprops = red_circle,)\n",
    "plt.title(\"Final Tumor Volume by Drug\")\n",
    "plt.xlabel(\"Drug\")\n",
    "plt.ylabel(\"Final Tumor Volume (mm3)\")\n",
    "plt.show()"
   ]
  },
  {
   "cell_type": "code",
   "execution_count": 15,
   "metadata": {},
   "outputs": [
    {
     "name": "stdout",
     "output_type": "stream",
     "text": [
      "Below is a list of potential mice for the line plot.\n",
      "\n",
      "     Mouse ID\n",
      "19       s185\n",
      "29       x401\n",
      "39       m601\n",
      "64       f966\n",
      "104      u364\n",
      "124      y793\n",
      "134      r554\n",
      "144      m957\n",
      "164      t565\n",
      "204      i738\n",
      "224      w914\n",
      "244      g288\n",
      "282      l897\n",
      "299      b742\n",
      "309      b128\n",
      "317      j246\n",
      "337      j119\n",
      "340      w150\n",
      "350      v923\n",
      "360      g316\n",
      "370      s710\n",
      "380      l509\n",
      "390      r944\n",
      "440      i557\n",
      "1455     r157\n"
     ]
    }
   ],
   "source": [
    "Capomulin_Tests = deduped_data.loc[deduped_data[\"Drug Regimen\"] == \"Capomulin\"]\n",
    "\n",
    "Potential_Mouse_List = Capomulin_Tests[[\"Mouse ID\"]].drop_duplicates(subset = \"Mouse ID\", keep = \"last\")\n",
    "\n",
    "print(f\"Below is a list of potential mice for the line plot.\\n\\n{Potential_Mouse_List}\")"
   ]
  },
  {
   "cell_type": "code",
   "execution_count": 16,
   "metadata": {},
   "outputs": [
    {
     "data": {
      "image/png": "[encoded data removed]",
      "text/plain": [
       "<Figure size 432x288 with 1 Axes>"
      ]
     },
     "metadata": {
      "needs_background": "light"
     },
     "output_type": "display_data"
    }
   ],
   "source": [
    "IndMouse = deduped_data.loc[deduped_data[\"Mouse ID\"] == \"r944\"]\n",
    "x_timepoint = IndMouse[\"Timepoint\"]\n",
    "y_tumor_volume = IndMouse[\"Tumor Volume (mm3)\"]\n",
    "plt.plot(x_timepoint, y_tumor_volume, color = \"purple\", marker = \"o\", markerfacecolor = \"gold\", linewidth = 2)\n",
    "plt.title(f\"Capomulin Treatment for Mouse r944\")\n",
    "plt.xlabel(\"Time Point in Days\")\n",
    "plt.ylabel(\"Tumor Volume (mm3)\")\n",
    "plt.show()"
   ]
  },
  {
   "cell_type": "code",
   "execution_count": 17,
   "metadata": {},
   "outputs": [
    {
     "data": {
      "image/png": "[encoded data removed]",
      "text/plain": [
       "<Figure size 432x288 with 1 Axes>"
      ]
     },
     "metadata": {
      "needs_background": "light"
     },
     "output_type": "display_data"
    }
   ],
   "source": [
    "Capomulin_subjects_avgs = Capomulin_Tests.groupby(\"Mouse ID\").mean()\n",
    "avg_weight = Capomulin_subjects_avgs[\"Weight (g)\"]\n",
    "avg_tumor_volume = Capomulin_subjects_avgs[\"Tumor Volume (mm3)\"]\n",
    "\n",
    "plt.scatter(avg_weight, avg_tumor_volume, facecolor = \"skyblue\")\n",
    "plt.title(\"Average Mouse Weight vs. Average Tumor Volume\")\n",
    "plt.xlabel(\"Weight(g)\")\n",
    "plt.ylabel(\"Average Tumor Volume (mm3)\")\n",
    "\n",
    "plt.show()"
   ]
  },
  {
   "cell_type": "code",
   "execution_count": 69,
   "metadata": {},
   "outputs": [
    {
     "data": {
      "image/png": "[encoded data removed]",
      "text/plain": [
       "<Figure size 432x288 with 1 Axes>"
      ]
     },
     "metadata": {
      "needs_background": "light"
     },
     "output_type": "display_data"
    }
   ],
   "source": [
    "slope, y_int, r_value, p_value, std_err = st.linregress(avg_weight, avg_tumor_volume)\n",
    "\n",
    "fit = avg_weight * slope  + y_int\n",
    "equation = \"y= \" + str(round(slope,2)) + \"x + \" + str(round(y_int,2))\n",
    "r_square = \"R-Squared Value is \" + str(round(r_value,2))\n",
    "plt.scatter(avg_weight, avg_tumor_volume, facecolor = \"skyblue\")\n",
    "plt.plot(avg_weight, fit, color = \"red\")\n",
    "plt.annotate(equation, (20, 40), color = \"red\", fontsize = 12)\n",
    "plt.annotate(r_square, (19, 38.5), color = \"red\", fontsize = 12)\n",
    "plt.title(\"Average Mouse Weight vs. Average Tumor Volume\")\n",
    "plt.xlabel(\"Weight(g)\")\n",
    "plt.ylabel(\"Average Tumor Volume (mm3)\")\n",
    "plt.show()"
   ]
  },
  {
   "cell_type": "code",
   "execution_count": null,
   "metadata": {},
   "outputs": [],
   "source": []
  }
 ],
 "metadata": {
  "kernelspec": {
   "display_name": "Python 3",
   "language": "python",
   "name": "python3"
  },
  "language_info": {
   "codemirror_mode": {
    "name": "ipython",
    "version": 3
   },
   "file_extension": ".py",
   "mimetype": "text/x-python",
   "name": "python",
   "nbconvert_exporter": "python",
   "pygments_lexer": "ipython3",
   "version": "3.7.4"
  }
 },
 "nbformat": 4,
 "nbformat_minor": 2
}
